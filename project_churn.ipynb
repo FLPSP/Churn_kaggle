{
 "cells": [
  {
   "cell_type": "markdown",
   "id": "b23ad69e-db7b-467c-b2fa-d2a84d01c516",
   "metadata": {
    "tags": []
   },
   "source": [
    "# Open session and import packages"
   ]
  },
  {
   "cell_type": "code",
   "execution_count": 1,
   "id": "eb1880ad-2d9c-4cfc-b0c5-b48a5a8977ce",
   "metadata": {},
   "outputs": [],
   "source": [
    "from pyspark.sql import SparkSession\n",
    "\n",
    "spark = SparkSession.builder.appName('project_churn').getOrCreate()"
   ]
  },
  {
   "cell_type": "code",
   "execution_count": 2,
   "id": "2aec0b94-a375-4625-ad74-ed265686b823",
   "metadata": {},
   "outputs": [],
   "source": [
    "from pyspark.sql.types import *\n",
    "import pyspark.sql.functions as F"
   ]
  },
  {
   "cell_type": "markdown",
   "id": "23855595-7cd1-43c1-b3b5-e9a309f12acd",
   "metadata": {},
   "source": [
    "# Import data"
   ]
  },
  {
   "cell_type": "code",
   "execution_count": 3,
   "id": "14604171-bd5a-4204-b2bf-8e66f4a80e64",
   "metadata": {
    "tags": []
   },
   "outputs": [],
   "source": [
    "# import train set\n",
    "train = spark.read.csv('train.csv', header = True)\n",
    "# import test set\n",
    "test = spark.read.csv('test.csv', header = True)"
   ]
  },
  {
   "cell_type": "markdown",
   "id": "16e96c71-cce6-418b-bb9e-c90c3cea019c",
   "metadata": {},
   "source": [
    "# Data Format"
   ]
  },
  {
   "cell_type": "code",
   "execution_count": 4,
   "id": "01acdd83-742b-45df-a4cb-317f979d4551",
   "metadata": {
    "tags": []
   },
   "outputs": [
    {
     "name": "stdout",
     "output_type": "stream",
     "text": [
      "+---+----------+--------------+-----------+---------+------+----+------+---------+-------------+---------+--------------+---------------+------+\n",
      "|id |CustomerId|Surname       |CreditScore|Geography|Gender|Age |Tenure|Balance  |NumOfProducts|HasCrCard|IsActiveMember|EstimatedSalary|Exited|\n",
      "+---+----------+--------------+-----------+---------+------+----+------+---------+-------------+---------+--------------+---------------+------+\n",
      "|0  |15674932  |Okwudilichukwu|668        |France   |Male  |33.0|3     |0.0      |2            |1.0      |0.0           |181449.97      |0     |\n",
      "|1  |15749177  |Okwudiliolisa |627        |France   |Male  |33.0|1     |0.0      |2            |1.0      |1.0           |49503.5        |0     |\n",
      "|2  |15694510  |Hsueh         |678        |France   |Male  |40.0|10    |0.0      |2            |1.0      |0.0           |184866.69      |0     |\n",
      "|3  |15741417  |Kao           |581        |France   |Male  |34.0|2     |148882.54|1            |1.0      |1.0           |84560.88       |0     |\n",
      "|4  |15766172  |Chiemenam     |716        |Spain    |Male  |33.0|5     |0.0      |2            |1.0      |1.0           |15068.83       |0     |\n",
      "|5  |15771669  |Genovese      |588        |Germany  |Male  |36.0|4     |131778.58|1            |1.0      |0.0           |136024.31      |1     |\n",
      "|6  |15692819  |Ch'ang        |593        |France   |Female|30.0|8     |144772.69|1            |1.0      |0.0           |29792.11       |0     |\n",
      "|7  |15669611  |Chukwuebuka   |678        |Spain    |Male  |37.0|1     |138476.41|1            |1.0      |0.0           |106851.6       |0     |\n",
      "|8  |15691707  |Manna         |676        |France   |Male  |43.0|4     |0.0      |2            |1.0      |0.0           |142917.13      |0     |\n",
      "|9  |15591721  |Cattaneo      |583        |Germany  |Male  |40.0|4     |81274.33 |1            |1.0      |1.0           |170843.07      |0     |\n",
      "|10 |15635097  |Fokine        |599        |Germany  |Female|27.0|6     |161801.47|2            |1.0      |0.0           |109184.24      |0     |\n",
      "|11 |15674671  |Chiu          |687        |Germany  |Male  |40.0|3     |90432.92 |1            |1.0      |0.0           |1676.92        |0     |\n",
      "|12 |15717962  |Rossi         |759        |Spain    |Male  |71.0|9     |0.0      |1            |1.0      |1.0           |93081.87       |0     |\n",
      "|13 |15793029  |Ts'ai         |681        |France   |Male  |47.0|5     |0.0      |1            |1.0      |1.0           |72945.68       |0     |\n",
      "|14 |15643294  |Chukwuemeka   |703        |France   |Female|33.0|7     |190566.65|1            |1.0      |1.0           |79997.14       |0     |\n",
      "|15 |15690958  |Tung          |549        |France   |Female|25.0|5     |0.0      |2            |1.0      |0.0           |162260.93      |0     |\n",
      "|16 |15566543  |Macdonald     |602        |France   |Male  |36.0|7     |0.0      |2            |0.0      |1.0           |135082.47      |0     |\n",
      "|17 |15679804  |Esquivel      |636        |France   |Male  |36.0|4     |117559.05|2            |1.0      |0.0           |111573.3       |0     |\n",
      "|18 |15671358  |Hargreaves    |645        |Germany  |Female|55.0|8     |120105.43|1            |1.0      |0.0           |125083.29      |1     |\n",
      "|19 |15650670  |Ts'ui         |559        |France   |Male  |61.0|1     |153711.26|1            |0.0      |1.0           |180890.4       |1     |\n",
      "+---+----------+--------------+-----------+---------+------+----+------+---------+-------------+---------+--------------+---------------+------+\n",
      "only showing top 20 rows\n",
      "\n"
     ]
    }
   ],
   "source": [
    "train.show(truncate = False)"
   ]
  },
  {
   "cell_type": "code",
   "execution_count": 5,
   "id": "4e3b2152-0ccf-4be2-8508-ebf5df591af1",
   "metadata": {},
   "outputs": [
    {
     "name": "stdout",
     "output_type": "stream",
     "text": [
      "root\n",
      " |-- id: string (nullable = true)\n",
      " |-- CustomerId: string (nullable = true)\n",
      " |-- Surname: string (nullable = true)\n",
      " |-- CreditScore: string (nullable = true)\n",
      " |-- Geography: string (nullable = true)\n",
      " |-- Gender: string (nullable = true)\n",
      " |-- Age: string (nullable = true)\n",
      " |-- Tenure: string (nullable = true)\n",
      " |-- Balance: string (nullable = true)\n",
      " |-- NumOfProducts: string (nullable = true)\n",
      " |-- HasCrCard: string (nullable = true)\n",
      " |-- IsActiveMember: string (nullable = true)\n",
      " |-- EstimatedSalary: string (nullable = true)\n",
      " |-- Exited: string (nullable = true)\n",
      "\n"
     ]
    }
   ],
   "source": [
    "# visualize all features type\n",
    "train.printSchema()"
   ]
  },
  {
   "cell_type": "code",
   "execution_count": 6,
   "id": "d337720a-6d01-4cb0-a167-adc7c19fddd3",
   "metadata": {
    "tags": []
   },
   "outputs": [],
   "source": [
    "# removing features that don't serve any purpose\n",
    "train = train.drop('id','surname')"
   ]
  },
  {
   "cell_type": "code",
   "execution_count": 7,
   "id": "2f546b9d-8712-4123-b729-6f1131fbdd32",
   "metadata": {
    "tags": []
   },
   "outputs": [],
   "source": [
    "# rename all to lower case letters, feature and data, and removing all blank spaces\n",
    "for col in train.columns:\n",
    "    train = train.withColumnRenamed(col, col.lower())\n",
    "    train = train.withColumn(col, F.lower(col))\n",
    "    train = train.withColumn(col, F.trim(col))"
   ]
  },
  {
   "cell_type": "code",
   "execution_count": 8,
   "id": "a328ee51-3899-48ea-9d2b-6a10fea13019",
   "metadata": {},
   "outputs": [
    {
     "name": "stdout",
     "output_type": "stream",
     "text": [
      "+----------+-----------+---------+------+----+------+---------+-------------+---------+--------------+---------------+------+\n",
      "|CustomerId|CreditScore|Geography|Gender|Age |Tenure|Balance  |NumOfProducts|HasCrCard|IsActiveMember|EstimatedSalary|Exited|\n",
      "+----------+-----------+---------+------+----+------+---------+-------------+---------+--------------+---------------+------+\n",
      "|15674932  |668        |france   |male  |33.0|3     |0.0      |2            |1.0      |0.0           |181449.97      |0     |\n",
      "|15749177  |627        |france   |male  |33.0|1     |0.0      |2            |1.0      |1.0           |49503.5        |0     |\n",
      "|15694510  |678        |france   |male  |40.0|10    |0.0      |2            |1.0      |0.0           |184866.69      |0     |\n",
      "|15741417  |581        |france   |male  |34.0|2     |148882.54|1            |1.0      |1.0           |84560.88       |0     |\n",
      "|15766172  |716        |spain    |male  |33.0|5     |0.0      |2            |1.0      |1.0           |15068.83       |0     |\n",
      "+----------+-----------+---------+------+----+------+---------+-------------+---------+--------------+---------------+------+\n",
      "only showing top 5 rows\n",
      "\n"
     ]
    }
   ],
   "source": [
    "# visualize how the feature data are arranged\n",
    "train.show(5, truncate = False)"
   ]
  },
  {
   "cell_type": "code",
   "execution_count": 9,
   "id": "43ba6890-3354-478d-8e9a-afecd219b25b",
   "metadata": {
    "tags": []
   },
   "outputs": [],
   "source": [
    "# changing data types to numeric type\n",
    "numeric_columns = ['creditscore', 'tenure', 'balance', 'numofproducts', 'hascrcard', 'isactivemember', 'estimatedsalary', 'exited']\n",
    "\n",
    "for col in numeric_columns:\n",
    "    train = train.withColumn(col, F.col(col).cast(FloatType()))"
   ]
  },
  {
   "cell_type": "code",
   "execution_count": 10,
   "id": "359d49a7-0f22-4258-894b-4d24e0f786f8",
   "metadata": {
    "tags": []
   },
   "outputs": [
    {
     "name": "stdout",
     "output_type": "stream",
     "text": [
      "root\n",
      " |-- CustomerId: string (nullable = true)\n",
      " |-- creditscore: float (nullable = true)\n",
      " |-- Geography: string (nullable = true)\n",
      " |-- Gender: string (nullable = true)\n",
      " |-- Age: string (nullable = true)\n",
      " |-- tenure: float (nullable = true)\n",
      " |-- balance: float (nullable = true)\n",
      " |-- numofproducts: float (nullable = true)\n",
      " |-- hascrcard: float (nullable = true)\n",
      " |-- isactivemember: float (nullable = true)\n",
      " |-- estimatedsalary: float (nullable = true)\n",
      " |-- exited: float (nullable = true)\n",
      "\n"
     ]
    }
   ],
   "source": [
    "train.printSchema()"
   ]
  },
  {
   "cell_type": "markdown",
   "id": "912f5803-851e-40dc-a12e-e1f8d5910916",
   "metadata": {},
   "source": [
    "# Exploratory Data Analysis"
   ]
  },
  {
   "cell_type": "code",
   "execution_count": 12,
   "id": "709ff28d-6811-4e9f-aa92-4327e08a5e16",
   "metadata": {},
   "outputs": [
    {
     "name": "stdout",
     "output_type": "stream",
     "text": [
      "+-------+--------------------+----------------+---------+------+-----------------+------------------+------------------+------------------+------------------+-------------------+------------------+-------------------+\n",
      "|summary|          CustomerId|     creditscore|Geography|Gender|              Age|            tenure|           balance|     numofproducts|         hascrcard|     isactivemember|   estimatedsalary|             exited|\n",
      "+-------+--------------------+----------------+---------+------+-----------------+------------------+------------------+------------------+------------------+-------------------+------------------+-------------------+\n",
      "|  count|              165034|          165034|   165034|165034|           165034|            165034|            165034|            165034|            165034|             165034|            165034|             165034|\n",
      "|   mean|1.5692005019026382E7|656.454373038283|     NULL|  NULL|38.12588787764945| 5.020353381727402| 55478.08669040132|1.5544554455445545|0.7539537307463916|0.49777015645260975|112574.82270602613|0.21159882206090866|\n",
      "| stddev|   71397.81679067112|80.1033404871783|     NULL|  NULL|8.867204591410792|2.8061585665860913|62817.663267958495|0.5471536788441764|0.4307071240449495|0.49999654260421705| 50292.86554962783| 0.4084431067117287|\n",
      "|    min|            15565701|           350.0|   france|female|             18.0|               0.0|               0.0|               1.0|               0.0|                0.0|             11.58|                0.0|\n",
      "|    25%|         1.5633112E7|           597.0|     NULL|  NULL|             32.0|               3.0|               0.0|               1.0|               1.0|                0.0|          74637.57|                0.0|\n",
      "|    50%|         1.5690164E7|           659.0|     NULL|  NULL|             37.0|               5.0|               0.0|               2.0|               1.0|                0.0|          117946.3|                0.0|\n",
      "|    75%|         1.5756821E7|           710.0|     NULL|  NULL|             42.0|               7.0|         119919.12|               2.0|               1.0|                1.0|         155061.97|                0.0|\n",
      "|    max|            15815690|           850.0|    spain|  male|             92.0|              10.0|          250898.1|               4.0|               1.0|                1.0|         199992.48|                1.0|\n",
      "+-------+--------------------+----------------+---------+------+-----------------+------------------+------------------+------------------+------------------+-------------------+------------------+-------------------+\n",
      "\n"
     ]
    }
   ],
   "source": [
    "train.summary().show()"
   ]
  },
  {
   "cell_type": "code",
   "execution_count": null,
   "id": "448fb06e-307d-44b1-b444-8828fa722fa7",
   "metadata": {},
   "outputs": [],
   "source": [
    "+-------+--------------------+----------------+---------+------+-----------------+------------------+------------------+------------------+------------------+-------------------+------------------+-------------------+\n",
    "|summary|          CustomerId|     creditscore|Geography|Gender|              Age|            tenure|           balance|     numofproducts|         hascrcard|     isactivemember|   estimatedsalary|             exited|\n",
    "+-------+--------------------+----------------+---------+------+-----------------+------------------+------------------+------------------+------------------+-------------------+------------------+-------------------+\n",
    "|  count|              165034|          165034|   165034|165034|           165034|            165034|            165034|            165034|            165034|             165034|            165034|             165034|\n",
    "|   mean|1.5692005019026382E7|656.454373038283|     NULL|  NULL|38.12588787764945| 5.020353381727402| 55478.08669040132|1.5544554455445545|0.7539537307463916|0.49777015645260975|112574.82270602613|0.21159882206090866|\n",
    "| stddev|   71397.81679067112|80.1033404871783|     NULL|  NULL|8.867204591410792|2.8061585665860913|62817.663267958495|0.5471536788441764|0.4307071240449495|0.49999654260421705| 50292.86554962783| 0.4084431067117287|\n",
    "|    min|            15565701|           350.0|   france|female|             18.0|               0.0|               0.0|               1.0|               0.0|                0.0|             11.58|                0.0|\n",
    "|    25%|         1.5633112E7|           597.0|     NULL|  NULL|             32.0|               3.0|               0.0|               1.0|               1.0|                0.0|          74637.57|                0.0|\n",
    "|    50%|         1.5690164E7|           659.0|     NULL|  NULL|             37.0|               5.0|               0.0|               2.0|               1.0|                0.0|          117946.3|                0.0|\n",
    "|    75%|         1.5756821E7|           710.0|     NULL|  NULL|             42.0|               7.0|         119919.12|               2.0|               1.0|                1.0|         155061.97|                0.0|\n",
    "|    max|            15815690|           850.0|    spain|  male|             92.0|              10.0|          250898.1|               4.0|               1.0|                1.0|         199992.48|                1.0|\n",
    "+-------+--------------------+----------------+---------+------+-----------------+------------------+------------------+------------------+------------------+-------------------+------------------+-------------------+"
   ]
  },
  {
   "cell_type": "code",
   "execution_count": null,
   "id": "3a6af4b8-9ea9-4777-8da2-10ca3b6a2e07",
   "metadata": {},
   "outputs": [],
   "source": [
    "trimmed_col = train.select().withColumn(feature, F.trim(F.col(feature)))"
   ]
  },
  {
   "cell_type": "code",
   "execution_count": null,
   "id": "3e4fadc2-f545-4666-a420-3077aa895ac6",
   "metadata": {},
   "outputs": [],
   "source": [
    "percent_missings = (train.select(feature).where(f'{feature} != \"None\" or {features} != \"\" ').count()/df.count())*100"
   ]
  },
  {
   "cell_type": "code",
   "execution_count": 27,
   "id": "c54ee9ce-8e2c-43a3-9fbe-bba80acaa7ca",
   "metadata": {
    "tags": []
   },
   "outputs": [
    {
     "data": {
      "text/plain": [
       "100.0"
      ]
     },
     "execution_count": 27,
     "metadata": {},
     "output_type": "execute_result"
    }
   ],
   "source": [
    "(train.select('geography').where(f'geography != \"None\" or geography != \"\" ').count()/train.count())*100"
   ]
  },
  {
   "cell_type": "code",
   "execution_count": null,
   "id": "33632f1e-08e7-40b1-9248-9b14fd3a46dd",
   "metadata": {},
   "outputs": [],
   "source": [
    "unic_values = train.select(feature).distinct().count()"
   ]
  },
  {
   "cell_type": "code",
   "execution_count": null,
   "id": "e4bf700e-f450-4ee9-adfe-ef36e3dbfd8e",
   "metadata": {},
   "outputs": [],
   "source": [
    "total_values = train.count()"
   ]
  },
  {
   "cell_type": "code",
   "execution_count": null,
   "id": "61ef36c2-2902-4a9b-ad0d-bd0f4ac53758",
   "metadata": {},
   "outputs": [],
   "source": [
    "def eda_basic(df:spark.DataFrame, cols:list):\n",
    "    for feature in cols:\n",
    "        # retirada de espaços vazios nos valores das colunas\n",
    "        trimmed_col = df.select().withColumn(feature, F.trim(F.col(feature)))\n",
    "        # cálculo de registros únicos\n",
    "        unic_values = df.select(feature).distinct().count()\n",
    "        # cálculo do total de registros\n",
    "        total_values = df.count()\n",
    "        # cálculo da porcentagem de missings nas features\n",
    "        percent_missings = (df.select(feature).where(f'{feature} == \"None\" or {features} == \"\" ').count()/total_values)*100\n",
    "        \n",
    "        \n",
    "    return"
   ]
  },
  {
   "cell_type": "code",
   "execution_count": null,
   "id": "1b649d19-4396-4080-92b1-5fc516d79e34",
   "metadata": {},
   "outputs": [],
   "source": []
  }
 ],
 "metadata": {
  "kernelspec": {
   "display_name": "Python 3 (ipykernel)",
   "language": "python",
   "name": "python3"
  },
  "language_info": {
   "codemirror_mode": {
    "name": "ipython",
    "version": 3
   },
   "file_extension": ".py",
   "mimetype": "text/x-python",
   "name": "python",
   "nbconvert_exporter": "python",
   "pygments_lexer": "ipython3",
   "version": "3.11.5"
  }
 },
 "nbformat": 4,
 "nbformat_minor": 5
}
