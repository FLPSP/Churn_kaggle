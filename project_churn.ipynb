{
 "cells": [
  {
   "cell_type": "markdown",
   "id": "b23ad69e-db7b-467c-b2fa-d2a84d01c516",
   "metadata": {
    "tags": []
   },
   "source": [
    "# Open session and import packages"
   ]
  },
  {
   "cell_type": "code",
   "execution_count": null,
   "id": "eb1880ad-2d9c-4cfc-b0c5-b48a5a8977ce",
   "metadata": {},
   "outputs": [],
   "source": [
    "from pyspark.sql import SparkSession\n",
    "\n",
    "spark = SparkSession.builder.appName('project_churn').getOrCreate()"
   ]
  },
  {
   "cell_type": "code",
   "execution_count": null,
   "id": "2aec0b94-a375-4625-ad74-ed265686b823",
   "metadata": {},
   "outputs": [],
   "source": [
    "from pyspark.sql.types import *\n",
    "import pyspark.sql.functions as F"
   ]
  },
  {
   "cell_type": "markdown",
   "id": "23855595-7cd1-43c1-b3b5-e9a309f12acd",
   "metadata": {},
   "source": [
    "# Import data"
   ]
  },
  {
   "cell_type": "code",
   "execution_count": null,
   "id": "14604171-bd5a-4204-b2bf-8e66f4a80e64",
   "metadata": {
    "tags": []
   },
   "outputs": [],
   "source": [
    "# import train set\n",
    "train = spark.read.csv('train.csv')\n",
    "# import test set\n",
    "test = spark.read.csv('teste.csv')"
   ]
  },
  {
   "cell_type": "markdown",
   "id": "16e96c71-cce6-418b-bb9e-c90c3cea019c",
   "metadata": {},
   "source": [
    "# Data Format"
   ]
  },
  {
   "cell_type": "code",
   "execution_count": null,
   "id": "4e3b2152-0ccf-4be2-8508-ebf5df591af1",
   "metadata": {},
   "outputs": [],
   "source": [
    "train.printSchema()"
   ]
  },
  {
   "cell_type": "code",
   "execution_count": null,
   "id": "a328ee51-3899-48ea-9d2b-6a10fea13019",
   "metadata": {},
   "outputs": [],
   "source": [
    "train.show(5, truncate = False)"
   ]
  },
  {
   "cell_type": "markdown",
   "id": "912f5803-851e-40dc-a12e-e1f8d5910916",
   "metadata": {},
   "source": [
    "# Exploratory Data Analysis"
   ]
  },
  {
   "cell_type": "code",
   "execution_count": null,
   "id": "709ff28d-6811-4e9f-aa92-4327e08a5e16",
   "metadata": {},
   "outputs": [],
   "source": [
    "train.summary().show()"
   ]
  },
  {
   "cell_type": "code",
   "execution_count": null,
   "id": "3a6af4b8-9ea9-4777-8da2-10ca3b6a2e07",
   "metadata": {},
   "outputs": [],
   "source": [
    "trimmed_col = train.select().withColumn(feature, F.trim(F.col(feature)))"
   ]
  },
  {
   "cell_type": "code",
   "execution_count": null,
   "id": "3e4fadc2-f545-4666-a420-3077aa895ac6",
   "metadata": {},
   "outputs": [],
   "source": [
    "percent_missings = (train.select(feature).where(f'{feature} != \"None\" or {features} != \"\" ').count()/df.count())*100"
   ]
  },
  {
   "cell_type": "code",
   "execution_count": null,
   "id": "33632f1e-08e7-40b1-9248-9b14fd3a46dd",
   "metadata": {},
   "outputs": [],
   "source": [
    "unic_values = train.select(feature).distinct().count()"
   ]
  },
  {
   "cell_type": "code",
   "execution_count": null,
   "id": "e4bf700e-f450-4ee9-adfe-ef36e3dbfd8e",
   "metadata": {},
   "outputs": [],
   "source": [
    "total_values = train.count()"
   ]
  },
  {
   "cell_type": "code",
   "execution_count": null,
   "id": "61ef36c2-2902-4a9b-ad0d-bd0f4ac53758",
   "metadata": {},
   "outputs": [],
   "source": [
    "def eda_basic(df:spark.DataFrame, cols:list):\n",
    "    for feature in cols:\n",
    "        # retirada de espaços vazios nos valores das colunas\n",
    "        trimmed_col = df.select().withColumn(feature, F.trim(F.col(feature)))\n",
    "        # cálculo de registros únicos\n",
    "        unic_values = df.select(feature).distinct().count()\n",
    "        # cálculo do total de registros\n",
    "        total_values = df.count()\n",
    "        # cálculo da porcentagem de missings nas features\n",
    "        percent_missings = (df.select(feature).where(f'{feature} != \"None\" or {features} != \"\" ').count()/df.count())*100\n",
    "        \n",
    "        \n",
    "    return"
   ]
  }
 ],
 "metadata": {
  "kernelspec": {
   "display_name": "Python 3 (ipykernel)",
   "language": "python",
   "name": "python3"
  },
  "language_info": {
   "codemirror_mode": {
    "name": "ipython",
    "version": 3
   },
   "file_extension": ".py",
   "mimetype": "text/x-python",
   "name": "python",
   "nbconvert_exporter": "python",
   "pygments_lexer": "ipython3",
   "version": "3.11.5"
  }
 },
 "nbformat": 4,
 "nbformat_minor": 5
}
