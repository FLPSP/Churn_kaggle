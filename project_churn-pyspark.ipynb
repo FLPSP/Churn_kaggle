{
 "cells": [
  {
   "cell_type": "markdown",
   "id": "b23ad69e-db7b-467c-b2fa-d2a84d01c516",
   "metadata": {
    "tags": []
   },
   "source": [
    "# Open session and import packages"
   ]
  },
  {
   "cell_type": "code",
   "execution_count": 1,
   "id": "eb1880ad-2d9c-4cfc-b0c5-b48a5a8977ce",
   "metadata": {},
   "outputs": [],
   "source": [
    "from pyspark.sql import SparkSession\n",
    "\n",
    "spark = SparkSession.builder.appName('project_churn').getOrCreate()"
   ]
  },
  {
   "cell_type": "code",
   "execution_count": 2,
   "id": "2aec0b94-a375-4625-ad74-ed265686b823",
   "metadata": {},
   "outputs": [],
   "source": [
    "from pyspark.sql.types import *\n",
    "import pyspark.sql.functions as F\n",
    "\n",
    "import matplotlib.pyplot as plt\n",
    "import seaborn as sns\n",
    "import numpy as np\n",
    "import warnings\n",
    "\n",
    "import os\n",
    "import sys\n",
    "\n",
    "os.environ['PYSPARK_PYTHON'] = sys.executable\n",
    "os.environ['PYSPARK_DRIVER_PYTHON'] = sys.executable\n",
    "\n",
    "# Suppress all warnings\n",
    "warnings.filterwarnings(\"ignore\")"
   ]
  },
  {
   "cell_type": "markdown",
   "id": "23855595-7cd1-43c1-b3b5-e9a309f12acd",
   "metadata": {},
   "source": [
    "# Import data"
   ]
  },
  {
   "cell_type": "code",
   "execution_count": 3,
   "id": "14604171-bd5a-4204-b2bf-8e66f4a80e64",
   "metadata": {
    "tags": []
   },
   "outputs": [],
   "source": [
    "# import train set\n",
    "train = spark.read.csv('train.csv', header = True)\n",
    "# import test set\n",
    "test = spark.read.csv('test.csv', header = True)"
   ]
  },
  {
   "cell_type": "markdown",
   "id": "16e96c71-cce6-418b-bb9e-c90c3cea019c",
   "metadata": {},
   "source": [
    "# Data Format"
   ]
  },
  {
   "cell_type": "code",
   "execution_count": 4,
   "id": "01acdd83-742b-45df-a4cb-317f979d4551",
   "metadata": {
    "tags": []
   },
   "outputs": [
    {
     "name": "stdout",
     "output_type": "stream",
     "text": [
      "+---+----------+--------------+-----------+---------+------+----+------+---------+-------------+---------+--------------+---------------+------+\n",
      "|id |CustomerId|Surname       |CreditScore|Geography|Gender|Age |Tenure|Balance  |NumOfProducts|HasCrCard|IsActiveMember|EstimatedSalary|Exited|\n",
      "+---+----------+--------------+-----------+---------+------+----+------+---------+-------------+---------+--------------+---------------+------+\n",
      "|0  |15674932  |Okwudilichukwu|668        |France   |Male  |33.0|3     |0.0      |2            |1.0      |0.0           |181449.97      |0     |\n",
      "|1  |15749177  |Okwudiliolisa |627        |France   |Male  |33.0|1     |0.0      |2            |1.0      |1.0           |49503.5        |0     |\n",
      "|2  |15694510  |Hsueh         |678        |France   |Male  |40.0|10    |0.0      |2            |1.0      |0.0           |184866.69      |0     |\n",
      "|3  |15741417  |Kao           |581        |France   |Male  |34.0|2     |148882.54|1            |1.0      |1.0           |84560.88       |0     |\n",
      "|4  |15766172  |Chiemenam     |716        |Spain    |Male  |33.0|5     |0.0      |2            |1.0      |1.0           |15068.83       |0     |\n",
      "|5  |15771669  |Genovese      |588        |Germany  |Male  |36.0|4     |131778.58|1            |1.0      |0.0           |136024.31      |1     |\n",
      "|6  |15692819  |Ch'ang        |593        |France   |Female|30.0|8     |144772.69|1            |1.0      |0.0           |29792.11       |0     |\n",
      "|7  |15669611  |Chukwuebuka   |678        |Spain    |Male  |37.0|1     |138476.41|1            |1.0      |0.0           |106851.6       |0     |\n",
      "|8  |15691707  |Manna         |676        |France   |Male  |43.0|4     |0.0      |2            |1.0      |0.0           |142917.13      |0     |\n",
      "|9  |15591721  |Cattaneo      |583        |Germany  |Male  |40.0|4     |81274.33 |1            |1.0      |1.0           |170843.07      |0     |\n",
      "|10 |15635097  |Fokine        |599        |Germany  |Female|27.0|6     |161801.47|2            |1.0      |0.0           |109184.24      |0     |\n",
      "|11 |15674671  |Chiu          |687        |Germany  |Male  |40.0|3     |90432.92 |1            |1.0      |0.0           |1676.92        |0     |\n",
      "|12 |15717962  |Rossi         |759        |Spain    |Male  |71.0|9     |0.0      |1            |1.0      |1.0           |93081.87       |0     |\n",
      "|13 |15793029  |Ts'ai         |681        |France   |Male  |47.0|5     |0.0      |1            |1.0      |1.0           |72945.68       |0     |\n",
      "|14 |15643294  |Chukwuemeka   |703        |France   |Female|33.0|7     |190566.65|1            |1.0      |1.0           |79997.14       |0     |\n",
      "|15 |15690958  |Tung          |549        |France   |Female|25.0|5     |0.0      |2            |1.0      |0.0           |162260.93      |0     |\n",
      "|16 |15566543  |Macdonald     |602        |France   |Male  |36.0|7     |0.0      |2            |0.0      |1.0           |135082.47      |0     |\n",
      "|17 |15679804  |Esquivel      |636        |France   |Male  |36.0|4     |117559.05|2            |1.0      |0.0           |111573.3       |0     |\n",
      "|18 |15671358  |Hargreaves    |645        |Germany  |Female|55.0|8     |120105.43|1            |1.0      |0.0           |125083.29      |1     |\n",
      "|19 |15650670  |Ts'ui         |559        |France   |Male  |61.0|1     |153711.26|1            |0.0      |1.0           |180890.4       |1     |\n",
      "+---+----------+--------------+-----------+---------+------+----+------+---------+-------------+---------+--------------+---------------+------+\n",
      "only showing top 20 rows\n",
      "\n"
     ]
    }
   ],
   "source": [
    "train.show(truncate = False)"
   ]
  },
  {
   "cell_type": "code",
   "execution_count": 5,
   "id": "4e3b2152-0ccf-4be2-8508-ebf5df591af1",
   "metadata": {},
   "outputs": [
    {
     "name": "stdout",
     "output_type": "stream",
     "text": [
      "root\n",
      " |-- id: string (nullable = true)\n",
      " |-- CustomerId: string (nullable = true)\n",
      " |-- Surname: string (nullable = true)\n",
      " |-- CreditScore: string (nullable = true)\n",
      " |-- Geography: string (nullable = true)\n",
      " |-- Gender: string (nullable = true)\n",
      " |-- Age: string (nullable = true)\n",
      " |-- Tenure: string (nullable = true)\n",
      " |-- Balance: string (nullable = true)\n",
      " |-- NumOfProducts: string (nullable = true)\n",
      " |-- HasCrCard: string (nullable = true)\n",
      " |-- IsActiveMember: string (nullable = true)\n",
      " |-- EstimatedSalary: string (nullable = true)\n",
      " |-- Exited: string (nullable = true)\n",
      "\n"
     ]
    }
   ],
   "source": [
    "# visualize all features type\n",
    "train.printSchema()"
   ]
  },
  {
   "cell_type": "code",
   "execution_count": 6,
   "id": "d337720a-6d01-4cb0-a167-adc7c19fddd3",
   "metadata": {
    "tags": []
   },
   "outputs": [],
   "source": [
    "# removing features that don't serve any purpose\n",
    "train = train.drop('id','surname')"
   ]
  },
  {
   "cell_type": "code",
   "execution_count": 7,
   "id": "2f546b9d-8712-4123-b729-6f1131fbdd32",
   "metadata": {
    "tags": []
   },
   "outputs": [],
   "source": [
    "# rename all to lower case letters, feature and data, and removing all blank spaces\n",
    "for col in train.columns:\n",
    "    train = train.withColumn(col, F.lower(F.col(col)))\n",
    "    train = train.withColumn(col, F.trim(F.col(col)))\n",
    "    train = train.withColumnRenamed(col, col.lower())"
   ]
  },
  {
   "cell_type": "code",
   "execution_count": 8,
   "id": "a328ee51-3899-48ea-9d2b-6a10fea13019",
   "metadata": {},
   "outputs": [
    {
     "name": "stdout",
     "output_type": "stream",
     "text": [
      "+----------+-----------+---------+------+----+------+---------+-------------+---------+--------------+---------------+------+\n",
      "|customerid|creditscore|geography|gender|age |tenure|balance  |numofproducts|hascrcard|isactivemember|estimatedsalary|exited|\n",
      "+----------+-----------+---------+------+----+------+---------+-------------+---------+--------------+---------------+------+\n",
      "|15674932  |668        |france   |male  |33.0|3     |0.0      |2            |1.0      |0.0           |181449.97      |0     |\n",
      "|15749177  |627        |france   |male  |33.0|1     |0.0      |2            |1.0      |1.0           |49503.5        |0     |\n",
      "|15694510  |678        |france   |male  |40.0|10    |0.0      |2            |1.0      |0.0           |184866.69      |0     |\n",
      "|15741417  |581        |france   |male  |34.0|2     |148882.54|1            |1.0      |1.0           |84560.88       |0     |\n",
      "|15766172  |716        |spain    |male  |33.0|5     |0.0      |2            |1.0      |1.0           |15068.83       |0     |\n",
      "+----------+-----------+---------+------+----+------+---------+-------------+---------+--------------+---------------+------+\n",
      "only showing top 5 rows\n",
      "\n"
     ]
    }
   ],
   "source": [
    "# visualize how the feature data are arranged\n",
    "train.show(5, truncate = False)"
   ]
  },
  {
   "cell_type": "code",
   "execution_count": 9,
   "id": "43ba6890-3354-478d-8e9a-afecd219b25b",
   "metadata": {
    "tags": []
   },
   "outputs": [],
   "source": [
    "# changing data types to numeric type\n",
    "int_columns = ['tenure', 'balance', 'estimatedsalary']\n",
    "\n",
    "for col in int_columns:\n",
    "    train = train.withColumn(col, F.col(col).cast(FloatType()))\n",
    "\n",
    "int_columns = ['creditscore', 'age', 'numofproducts', 'hascrcard', 'isactivemember', 'exited']\n",
    "for col in int_columns:\n",
    "    train = train.withColumn(col, F.col(col).cast(IntegerType()))\n",
    "    "
   ]
  },
  {
   "cell_type": "code",
   "execution_count": 10,
   "id": "359d49a7-0f22-4258-894b-4d24e0f786f8",
   "metadata": {
    "tags": []
   },
   "outputs": [
    {
     "name": "stdout",
     "output_type": "stream",
     "text": [
      "root\n",
      " |-- customerid: string (nullable = true)\n",
      " |-- creditscore: integer (nullable = true)\n",
      " |-- geography: string (nullable = true)\n",
      " |-- gender: string (nullable = true)\n",
      " |-- age: integer (nullable = true)\n",
      " |-- tenure: float (nullable = true)\n",
      " |-- balance: float (nullable = true)\n",
      " |-- numofproducts: integer (nullable = true)\n",
      " |-- hascrcard: integer (nullable = true)\n",
      " |-- isactivemember: integer (nullable = true)\n",
      " |-- estimatedsalary: float (nullable = true)\n",
      " |-- exited: integer (nullable = true)\n",
      "\n"
     ]
    }
   ],
   "source": [
    "train.printSchema()"
   ]
  },
  {
   "cell_type": "markdown",
   "id": "912f5803-851e-40dc-a12e-e1f8d5910916",
   "metadata": {},
   "source": [
    "# Exploratory Data Analysis"
   ]
  },
  {
   "cell_type": "code",
   "execution_count": 11,
   "id": "709ff28d-6811-4e9f-aa92-4327e08a5e16",
   "metadata": {},
   "outputs": [
    {
     "name": "stdout",
     "output_type": "stream",
     "text": [
      "+-------+--------------------+----------------+---------+------+-----------------+------------------+------------------+------------------+------------------+-------------------+------------------+-------------------+\n",
      "|summary|          customerid|     creditscore|geography|gender|              age|            tenure|           balance|     numofproducts|         hascrcard|     isactivemember|   estimatedsalary|             exited|\n",
      "+-------+--------------------+----------------+---------+------+-----------------+------------------+------------------+------------------+------------------+-------------------+------------------+-------------------+\n",
      "|  count|              165034|          165034|   165034|165034|           165034|            165034|            165034|            165034|            165034|             165034|            165034|             165034|\n",
      "|   mean|1.5692005019026382E7|656.454373038283|     NULL|  NULL|38.12588315135063| 5.020353381727402| 55478.08669040132|1.5544554455445545|0.7539537307463916|0.49777015645260975|112574.82270602613|0.21159882206090866|\n",
      "| stddev|   71397.81679067112|80.1033404871783|     NULL|  NULL|8.867206548242015|2.8061585665860913|62817.663267958495|0.5471536788441764|0.4307071240449495|0.49999654260421705| 50292.86554962783| 0.4084431067117287|\n",
      "|    min|            15565701|             350|   france|female|               18|               0.0|               0.0|                 1|                 0|                  0|             11.58|                  0|\n",
      "|    25%|         1.5633112E7|             597|     NULL|  NULL|               32|               3.0|               0.0|                 1|                 1|                  0|          74637.57|                  0|\n",
      "|    50%|         1.5690164E7|             659|     NULL|  NULL|               37|               5.0|               0.0|                 2|                 1|                  0|          117946.3|                  0|\n",
      "|    75%|         1.5756821E7|             710|     NULL|  NULL|               42|               7.0|         119919.12|                 2|                 1|                  1|         155061.97|                  0|\n",
      "|    max|            15815690|             850|    spain|  male|               92|              10.0|          250898.1|                 4|                 1|                  1|         199992.48|                  1|\n",
      "+-------+--------------------+----------------+---------+------+-----------------+------------------+------------------+------------------+------------------+-------------------+------------------+-------------------+\n",
      "\n"
     ]
    }
   ],
   "source": [
    "train.summary().show()"
   ]
  },
  {
   "cell_type": "code",
   "execution_count": 12,
   "id": "61ef36c2-2902-4a9b-ad0d-bd0f4ac53758",
   "metadata": {},
   "outputs": [],
   "source": [
    "def eda_basic(df, cols:list):\n",
    "    # lista auxiliar para adicionar os registros\n",
    "    summary_data = []\n",
    "    \n",
    "    for feature in cols:\n",
    "        # retirada de espaços vazios nos valores das colunas\n",
    "        trimmed_col = df.withColumn(feature, F.trim(F.col(feature)))\n",
    "        # cálculo de registros únicos\n",
    "        unique_values = df.select(feature).distinct().count()\n",
    "        # cálculo do total de registros\n",
    "        total_values = df.count()\n",
    "        # cálculo da porcentagem de missings nas features\n",
    "        percent_missings = (df.select(feature).where(f'{feature} == \"None\" or {feature} == \"\" ').count()/total_values)*100\n",
    "        # adiciona os valores calculados a um registro referente à respectiva feature\n",
    "        summary_data.append((feature, unique_values, total_values, percent_missings))\n",
    "        \n",
    "    # criação do Dataframe de saída\n",
    "    df = spark.createDataFrame(summary_data, [\"feature\", \"unique_value\", \"total_values\", \"percent_missing\"])\n",
    "    \n",
    "    return df"
   ]
  },
  {
   "cell_type": "code",
   "execution_count": 13,
   "id": "1b649d19-4396-4080-92b1-5fc516d79e34",
   "metadata": {
    "tags": []
   },
   "outputs": [],
   "source": [
    "eda = eda_basic(train, train.columns[1:])"
   ]
  },
  {
   "cell_type": "code",
   "execution_count": 14,
   "id": "bbbe57b8-6653-4708-9e3c-f154bdee6077",
   "metadata": {
    "tags": []
   },
   "outputs": [
    {
     "name": "stdout",
     "output_type": "stream",
     "text": [
      "+---------------+------------+------------+---------------+\n",
      "|        feature|unique_value|total_values|percent_missing|\n",
      "+---------------+------------+------------+---------------+\n",
      "|    creditscore|         457|      165034|            0.0|\n",
      "|      geography|           3|      165034|            0.0|\n",
      "|         gender|           2|      165034|            0.0|\n",
      "|            age|          69|      165034|            0.0|\n",
      "|         tenure|          11|      165034|            0.0|\n",
      "|        balance|       29807|      165034|            0.0|\n",
      "|  numofproducts|           4|      165034|            0.0|\n",
      "|      hascrcard|           2|      165034|            0.0|\n",
      "| isactivemember|           2|      165034|            0.0|\n",
      "|estimatedsalary|       54502|      165034|            0.0|\n",
      "|         exited|           2|      165034|            0.0|\n",
      "+---------------+------------+------------+---------------+\n",
      "\n"
     ]
    }
   ],
   "source": [
    "eda.show()"
   ]
  },
  {
   "cell_type": "markdown",
   "id": "6c4e349a-3e38-4eab-b3fd-a3243df79245",
   "metadata": {},
   "source": [
    "Train set dont have any missing data in features, so we need to looking for outliers and know if they are possible or not to consider and how we can work with him."
   ]
  },
  {
   "cell_type": "code",
   "execution_count": 15,
   "id": "eead300b-8ba3-47ed-85e0-64263c1cf405",
   "metadata": {},
   "outputs": [
    {
     "name": "stdout",
     "output_type": "stream",
     "text": [
      "+---------------+---------+---------+---------+---------+---------+---------+\n",
      "|        summary|      95%|      96%|      97%|      98%|      99%|      max|\n",
      "+---------------+---------+---------+---------+---------+---------+---------+\n",
      "|            age|       56|       57|       59|       62|       66|       92|\n",
      "|         tenure|      9.0|      9.0|     10.0|     10.0|     10.0|     10.0|\n",
      "|        balance|151657.81|153949.69|158623.03|164880.31|172274.02| 250898.1|\n",
      "|  numofproducts|        2|        2|        2|        3|        3|        4|\n",
      "|estimatedsalary|183487.98|184872.66|187756.23|190347.72|196111.34|199992.48|\n",
      "+---------------+---------+---------+---------+---------+---------+---------+\n",
      "\n"
     ]
    }
   ],
   "source": [
    "# visualizing percentile in each feature to know about outliers in data\n",
    "percentile_data_pandas = train.select(\"age\", \"tenure\", \"balance\", \"numofproducts\", \"estimatedsalary\").summary('95%', '96%', '97%', '98%', '99%', 'max').toPandas().T.reset_index()\n",
    "percentile_data_pandas.columns = percentile_data_pandas.iloc[0]\n",
    "percentile_data_pandas = percentile_data_pandas[1:]\n",
    "percentile_data_pandas = percentile_data_pandas.reset_index(drop=True)\n",
    "\n",
    "df_percentile = spark.createDataFrame(percentile_data_pandas)\n",
    "df_percentile.show()"
   ]
  },
  {
   "cell_type": "raw",
   "id": "93543b80-f0af-4786-99dd-8aeb4bc8de9b",
   "metadata": {},
   "source": [
    "Only feature with discrepant value is Age, but even that value is a normal value."
   ]
  },
  {
   "cell_type": "code",
   "execution_count": 16,
   "id": "6d4123f7-30b2-4dd9-9b27-aaf67bc8b32d",
   "metadata": {},
   "outputs": [
    {
     "data": {
      "image/png": "[encoded data removed]",
      "text/plain": [
       "<Figure size 700x300 with 1 Axes>"
      ]
     },
     "metadata": {},
     "output_type": "display_data"
    }
   ],
   "source": [
    "# construct graphics about information to visualize how the data are distributed\n",
    "distribution_feature = train.select(\"Age\").groupBy(\"Age\").count()\n",
    "\n",
    "pd_distribution_feature = distribution_feature.toPandas()\n",
    "\n",
    "plt.figure(figsize=(7, 3))\n",
    "sns.barplot(data=pd_distribution_feature, x=\"Age\", y=\"count\", palette=\"viridis\")\n",
    "plt.xticks(np.arange(0, pd_distribution_feature[\"Age\"].max()+5, 5))\n",
    "plt.title(\"Age Distribution\")\n",
    "plt.xlabel(\"Value\")\n",
    "plt.ylabel(\"Frequency\")\n",
    "plt.show()"
   ]
  },
  {
   "cell_type": "raw",
   "id": "76f5a171-273c-468b-b923-3fe017e014b0",
   "metadata": {},
   "source": [
    "In this case, all features are completly different among they distribution. Then work in each plot make better visualization than create a function."
   ]
  },
  {
   "cell_type": "code",
   "execution_count": 17,
   "id": "d0aa5fe4-de9c-41f8-a747-9496b2a240e0",
   "metadata": {},
   "outputs": [
    {
     "name": "stdout",
     "output_type": "stream",
     "text": [
      "+------+------+\n",
      "|exited| count|\n",
      "+------+------+\n",
      "|     1| 34921|\n",
      "|     0|130113|\n",
      "+------+------+\n",
      "\n"
     ]
    }
   ],
   "source": [
    "# verifying label balancing\n",
    "train.select(\"exited\").groupby(\"exited\").count().show()"
   ]
  },
  {
   "cell_type": "markdown",
   "id": "b34da77b-3451-4c65-939f-2f3709fff228",
   "metadata": {},
   "source": [
    "# Data Wrangling"
   ]
  },
  {
   "cell_type": "code",
   "execution_count": 18,
   "id": "b597ee57-1f38-4748-b67f-54be06ee4380",
   "metadata": {},
   "outputs": [],
   "source": [
    "from pyspark.ml.feature import StringIndexer, OneHotEncoder\n",
    "from pyspark.ml import Pipeline\n",
    "\n",
    "# transforming category variables in category index, its because to use OneHotEncoder we need a index not a category\n",
    "indexers = [StringIndexer(inputCol=column, outputCol=column+\"_index\").fit(train) for column in [\"geography\", \"gender\"]]\n",
    "\n",
    "# Aplying OneHotEncoder to transform catergory index in dummys\n",
    "encoders = [OneHotEncoder(inputCol=column+\"_index\", outputCol=column+\"_encoded\") for column in [\"geography\", \"gender\"]]\n",
    "\n",
    "# create pipeline to transform category variables in dummys\n",
    "pipeline = Pipeline(stages=indexers+encoders)\n",
    "data = pipeline.fit(train).transform(train)"
   ]
  },
  {
   "cell_type": "code",
   "execution_count": 19,
   "id": "333a8f06-0358-42ba-b6a6-7b7c0b2f842b",
   "metadata": {},
   "outputs": [
    {
     "name": "stdout",
     "output_type": "stream",
     "text": [
      "+----------+-----------+---------+------+---+------+---------+-------------+---------+--------------+---------------+------+---------------+------------+-----------------+--------------+\n",
      "|customerid|creditscore|geography|gender|age|tenure|  balance|numofproducts|hascrcard|isactivemember|estimatedsalary|exited|geography_index|gender_index|geography_encoded|gender_encoded|\n",
      "+----------+-----------+---------+------+---+------+---------+-------------+---------+--------------+---------------+------+---------------+------------+-----------------+--------------+\n",
      "|  15674932|        668|   france|  male| 33|   3.0|      0.0|            2|        1|             0|      181449.97|     0|            0.0|         0.0|    (2,[0],[1.0])| (1,[0],[1.0])|\n",
      "|  15749177|        627|   france|  male| 33|   1.0|      0.0|            2|        1|             1|        49503.5|     0|            0.0|         0.0|    (2,[0],[1.0])| (1,[0],[1.0])|\n",
      "|  15694510|        678|   france|  male| 40|  10.0|      0.0|            2|        1|             0|      184866.69|     0|            0.0|         0.0|    (2,[0],[1.0])| (1,[0],[1.0])|\n",
      "|  15741417|        581|   france|  male| 34|   2.0|148882.55|            1|        1|             1|       84560.88|     0|            0.0|         0.0|    (2,[0],[1.0])| (1,[0],[1.0])|\n",
      "|  15766172|        716|    spain|  male| 33|   5.0|      0.0|            2|        1|             1|       15068.83|     0|            1.0|         0.0|    (2,[1],[1.0])| (1,[0],[1.0])|\n",
      "|  15771669|        588|  germany|  male| 36|   4.0|131778.58|            1|        1|             0|      136024.31|     1|            2.0|         0.0|        (2,[],[])| (1,[0],[1.0])|\n",
      "|  15692819|        593|   france|female| 30|   8.0|144772.69|            1|        1|             0|       29792.11|     0|            0.0|         1.0|    (2,[0],[1.0])|     (1,[],[])|\n",
      "|  15669611|        678|    spain|  male| 37|   1.0| 138476.4|            1|        1|             0|       106851.6|     0|            1.0|         0.0|    (2,[1],[1.0])| (1,[0],[1.0])|\n",
      "|  15691707|        676|   france|  male| 43|   4.0|      0.0|            2|        1|             0|      142917.12|     0|            0.0|         0.0|    (2,[0],[1.0])| (1,[0],[1.0])|\n",
      "|  15591721|        583|  germany|  male| 40|   4.0| 81274.33|            1|        1|             1|      170843.06|     0|            2.0|         0.0|        (2,[],[])| (1,[0],[1.0])|\n",
      "|  15635097|        599|  germany|female| 27|   6.0|161801.47|            2|        1|             0|      109184.24|     0|            2.0|         1.0|        (2,[],[])|     (1,[],[])|\n",
      "|  15674671|        687|  germany|  male| 40|   3.0| 90432.92|            1|        1|             0|        1676.92|     0|            2.0|         0.0|        (2,[],[])| (1,[0],[1.0])|\n",
      "|  15717962|        759|    spain|  male| 71|   9.0|      0.0|            1|        1|             1|       93081.87|     0|            1.0|         0.0|    (2,[1],[1.0])| (1,[0],[1.0])|\n",
      "|  15793029|        681|   france|  male| 47|   5.0|      0.0|            1|        1|             1|       72945.68|     0|            0.0|         0.0|    (2,[0],[1.0])| (1,[0],[1.0])|\n",
      "|  15643294|        703|   france|female| 33|   7.0|190566.66|            1|        1|             1|       79997.14|     0|            0.0|         1.0|    (2,[0],[1.0])|     (1,[],[])|\n",
      "|  15690958|        549|   france|female| 25|   5.0|      0.0|            2|        1|             0|      162260.94|     0|            0.0|         1.0|    (2,[0],[1.0])|     (1,[],[])|\n",
      "|  15566543|        602|   france|  male| 36|   7.0|      0.0|            2|        0|             1|      135082.47|     0|            0.0|         0.0|    (2,[0],[1.0])| (1,[0],[1.0])|\n",
      "|  15679804|        636|   france|  male| 36|   4.0|117559.05|            2|        1|             0|       111573.3|     0|            0.0|         0.0|    (2,[0],[1.0])| (1,[0],[1.0])|\n",
      "|  15671358|        645|  germany|female| 55|   8.0|120105.43|            1|        1|             0|      125083.29|     1|            2.0|         1.0|        (2,[],[])|     (1,[],[])|\n",
      "|  15650670|        559|   france|  male| 61|   1.0|153711.27|            1|        0|             1|       180890.4|     1|            0.0|         0.0|    (2,[0],[1.0])| (1,[0],[1.0])|\n",
      "+----------+-----------+---------+------+---+------+---------+-------------+---------+--------------+---------------+------+---------------+------------+-----------------+--------------+\n",
      "only showing top 20 rows\n",
      "\n"
     ]
    }
   ],
   "source": [
    "data.show()"
   ]
  },
  {
   "cell_type": "code",
   "execution_count": 20,
   "id": "cc264caa-94e3-418d-93b1-c5881ec49e6c",
   "metadata": {
    "scrolled": true
   },
   "outputs": [],
   "source": [
    "from pyspark.ml.feature import VectorAssembler\n",
    "\n",
    "# select relevant features\n",
    "feature_columns = [\"creditscore\", \"age\", \"tenure\", \"balance\", \"numofproducts\", \"hascrcard\",\n",
    "                   \"isactivemember\", \"estimatedsalary\", \"geography_encoded\", \"gender_encoded\"]\n",
    "\n",
    "assembler = VectorAssembler(inputCols=feature_columns, outputCol=\"features\")\n",
    "data = assembler.transform(data)"
   ]
  },
  {
   "cell_type": "code",
   "execution_count": 21,
   "id": "8c0d8728-3139-4b07-98bb-2e5d4e84d066",
   "metadata": {},
   "outputs": [],
   "source": [
    "from pyspark.ml.feature import StandardScaler\n",
    "\n",
    "# standard features using standard scaler\n",
    "scaler = StandardScaler(inputCol=\"features\", outputCol=\"scaled_features\", withStd=True, withMean=False)\n",
    "scaler_model = scaler.fit(data)\n",
    "data = scaler_model.transform(data)"
   ]
  },
  {
   "cell_type": "code",
   "execution_count": 22,
   "id": "37cbf359-32e1-43cf-94a3-5a03f128c9e2",
   "metadata": {},
   "outputs": [
    {
     "name": "stdout",
     "output_type": "stream",
     "text": [
      "+----------+-----------+---------+------+---+------+---------+-------------+---------+--------------+---------------+------+---------------+------------+-----------------+--------------+--------------------+--------------------+\n",
      "|customerid|creditscore|geography|gender|age|tenure|  balance|numofproducts|hascrcard|isactivemember|estimatedsalary|exited|geography_index|gender_index|geography_encoded|gender_encoded|            features|     scaled_features|\n",
      "+----------+-----------+---------+------+---+------+---------+-------------+---------+--------------+---------------+------+---------------+------------+-----------------+--------------+--------------------+--------------------+\n",
      "|  15674932|        668|   france|  male| 33|   3.0|      0.0|            2|        1|             0|      181449.97|     0|            0.0|         0.0|    (2,[0],[1.0])| (1,[0],[1.0])|[668.0,33.0,3.0,0...|[8.33922775176802...|\n",
      "|  15749177|        627|   france|  male| 33|   1.0|      0.0|            2|        1|             1|        49503.5|     0|            0.0|         0.0|    (2,[0],[1.0])| (1,[0],[1.0])|[627.0,33.0,1.0,0...|[7.82738892269243...|\n",
      "|  15694510|        678|   france|  male| 40|  10.0|      0.0|            2|        1|             0|      184866.69|     0|            0.0|         0.0|    (2,[0],[1.0])| (1,[0],[1.0])|[678.0,40.0,10.0,...|[8.46406649056694...|\n",
      "|  15741417|        581|   france|  male| 34|   2.0|148882.55|            1|        1|             1|       84560.88|     0|            0.0|         0.0|    (2,[0],[1.0])| (1,[0],[1.0])|[581.0,34.0,2.0,1...|[7.25313072421739...|\n",
      "|  15766172|        716|    spain|  male| 33|   5.0|      0.0|            2|        1|             1|       15068.83|     0|            1.0|         0.0|    (2,[1],[1.0])| (1,[0],[1.0])|[716.0,33.0,5.0,0...|[8.93845369800284...|\n",
      "+----------+-----------+---------+------+---+------+---------+-------------+---------+--------------+---------------+------+---------------+------------+-----------------+--------------+--------------------+--------------------+\n",
      "only showing top 5 rows\n",
      "\n"
     ]
    }
   ],
   "source": [
    "data.show(5)"
   ]
  },
  {
   "cell_type": "code",
   "execution_count": 23,
   "id": "349158ed-2541-4aee-812c-2d0162872a46",
   "metadata": {},
   "outputs": [],
   "source": [
    "train_data, test_data = data.randomSplit([0.8,0.2], seed=1)\n",
    "#train_data.write.mode(\"overwrite\").parquet(\"datas/train_data_model.parquet\")\n",
    "#test_data.write.mode(\"overwrite\").parquet(\"datas/test_data_model.parquet\")"
   ]
  },
  {
   "cell_type": "markdown",
   "id": "911fbbba-9f3f-4664-9466-91a7a79cc0f3",
   "metadata": {},
   "source": [
    "# Models"
   ]
  },
  {
   "cell_type": "code",
   "execution_count": 24,
   "id": "8169c985-59b6-4143-bbc1-3ac6dc42e307",
   "metadata": {},
   "outputs": [],
   "source": [
    "#train_data = spark.read.parquet(\"datas/train_data_model\")\n",
    "#test_data = spark.read.parquet(\"datas/test_data_model\")"
   ]
  },
  {
   "cell_type": "code",
   "execution_count": 25,
   "id": "cc3e9c9f-bca4-447a-8eef-3f808698a947",
   "metadata": {},
   "outputs": [],
   "source": [
    "from pyspark.ml.evaluation import BinaryClassificationEvaluator, MulticlassClassificationEvaluator"
   ]
  },
  {
   "cell_type": "code",
   "execution_count": 26,
   "id": "029fb715-e723-4175-bc3a-312332fb8958",
   "metadata": {},
   "outputs": [],
   "source": [
    "# Fuction to evaluate models\n",
    "def evaluate_model(model, test_data):\n",
    "    predictions = model.transform(test_data)\n",
    "\n",
    "    # Binary evaluator(ROC-AUC and AUC-PR)\n",
    "    evaluator_auc = BinaryClassificationEvaluator(labelCol=\"exited\", rawPredictionCol=\"rawPrediction\", metricName=\"areaUnderROC\")\n",
    "    evaluator_aucpr = BinaryClassificationEvaluator(labelCol=\"exited\", rawPredictionCol=\"rawPrediction\", metricName=\"areaUnderPR\")\n",
    "\n",
    "    auc = evaluator_auc.evaluate(predictions)\n",
    "    aucpr = evaluator_aucpr.evaluate(predictions)\n",
    "\n",
    "    # Multiclass evaluator(Accuracy, Precision,, Recall, F1-Score)\n",
    "    evaluator_accuracy = MulticlassClassificationEvaluator(labelCol=\"exited\", predictionCol=\"prediction\", metricName=\"accuracy\")\n",
    "    evaluator_precision = MulticlassClassificationEvaluator(labelCol=\"exited\", predictionCol=\"prediction\", metricName=\"weightedPrecision\")\n",
    "    evaluator_recall = MulticlassClassificationEvaluator(labelCol=\"exited\", predictionCol=\"prediction\", metricName=\"weightedRecall\")\n",
    "    evaluator_f1 = MulticlassClassificationEvaluator(labelCol=\"exited\", predictionCol=\"prediction\", metricName=\"f1\")\n",
    "\n",
    "    accuracy = evaluator_accuracy.evaluate(predictions)\n",
    "    precision = evaluator_precision.evaluate(predictions)\n",
    "    recall = evaluator_recall.evaluate(predictions)\n",
    "    f1 = evaluator_f1.evaluate(predictions)\n",
    "\n",
    "    # Display results\n",
    "    print(f\"ROC-AUC: {auc:.3f}\")\n",
    "    print(f\"AUC-PR: {aucpr:.3f}\")\n",
    "    print(f\"Accuracy: {accuracy:.3f}\")\n",
    "    print(f\"Precision: {precision:.3f}\")\n",
    "    print(f\"Recall: {recall:.3f}\")\n",
    "    print(f\"F1-Score: {f1:.3f}\")"
   ]
  },
  {
   "cell_type": "code",
   "execution_count": 27,
   "id": "7fec3cc1-c0ce-4358-8715-c15c8b3eac3c",
   "metadata": {},
   "outputs": [],
   "source": [
    "from pyspark.ml.classification import LogisticRegression, RandomForestClassifier, GBTClassifier, MultilayerPerceptronClassifier, LinearSVC, NaiveBayes"
   ]
  },
  {
   "cell_type": "code",
   "execution_count": 28,
   "id": "cb453da5-cbf0-4aaf-9efa-de3d7ff99e56",
   "metadata": {},
   "outputs": [],
   "source": [
    "# Logistic Regression Model\n",
    "lr = LogisticRegression(featuresCol=\"scaled_features\", labelCol=\"exited\")\n",
    "lr_model = lr.fit(train_data)"
   ]
  },
  {
   "cell_type": "code",
   "execution_count": 29,
   "id": "187edccc-1e0b-45ed-afdf-21eae27f847b",
   "metadata": {},
   "outputs": [],
   "source": [
    "# Random Forest Classifier Model\n",
    "rfc = RandomForestClassifier(featuresCol=\"scaled_features\", labelCol=\"exited\", seed=1)\n",
    "rfc_model = rfc.fit(train_data)"
   ]
  },
  {
   "cell_type": "code",
   "execution_count": 30,
   "id": "0f8f38f3-2dfc-40a0-9c63-6bf0f7fac759",
   "metadata": {},
   "outputs": [],
   "source": [
    "# Gradient Boost Tree Classifier Model\n",
    "gbt = GBTClassifier(featuresCol=\"scaled_features\", labelCol=\"exited\", seed=1)\n",
    "gbt_model = gbt.fit(train_data)"
   ]
  },
  {
   "cell_type": "code",
   "execution_count": 31,
   "id": "7afdd7f1-04ff-4dbb-9a76-3ed73298f2da",
   "metadata": {},
   "outputs": [],
   "source": [
    "# Extreme Gradient Boost Model\n",
    "# defining Neural Network archteture ([n features, hidden layers, output])\n",
    "layers = [train_data.select(\"scaled_features\").first()[0].size, 50, 2]\n",
    "\n",
    "mlp = MultilayerPerceptronClassifier(featuresCol=\"scaled_features\", labelCol=\"exited\", layers=layers, maxIter=100, seed=1)\n",
    "mlp_model = mlp.fit(train_data)"
   ]
  },
  {
   "cell_type": "code",
   "execution_count": 32,
   "id": "d5730b56-3dc1-48a4-8816-7f0977cc2177",
   "metadata": {},
   "outputs": [],
   "source": [
    "# Support Vector Machine Model\n",
    "svc = LinearSVC(featuresCol=\"scaled_features\", labelCol=\"exited\", maxIter=100)\n",
    "svc_model = svc.fit(train_data)"
   ]
  },
  {
   "cell_type": "code",
   "execution_count": 33,
   "id": "cbc105b4-27c4-4430-958d-8b75e144e89b",
   "metadata": {},
   "outputs": [],
   "source": [
    "# Naive Bayes\n",
    "nb = NaiveBayes(featuresCol=\"scaled_features\", labelCol=\"exited\")\n",
    "nb_model = nb.fit(train_data)"
   ]
  },
  {
   "cell_type": "code",
   "execution_count": 34,
   "id": "a63c20a3-8fbe-4349-a4d9-697b077e49dc",
   "metadata": {},
   "outputs": [
    {
     "name": "stdout",
     "output_type": "stream",
     "text": [
      "#==============================#\n",
      "Logistic Regression\n",
      "ROC-AUC: 0.814\n",
      "AUC-PR: 0.586\n",
      "Accuracy: 0.832\n",
      "Precision: 0.816\n",
      "Recall: 0.832\n",
      "F1-Score: 0.812\n",
      "#==============================#\n",
      "Random Forest\n",
      "ROC-AUC: 0.871\n",
      "AUC-PR: 0.693\n",
      "Accuracy: 0.852\n",
      "Precision: 0.844\n",
      "Recall: 0.852\n",
      "F1-Score: 0.835\n",
      "#==============================#\n",
      "Gradient Boost Tree\n",
      "ROC-AUC: 0.885\n",
      "AUC-PR: 0.724\n",
      "Accuracy: 0.862\n",
      "Precision: 0.853\n",
      "Recall: 0.862\n",
      "F1-Score: 0.852\n",
      "#==============================#\n",
      "Multilayer Perceptron\n",
      "ROC-AUC: 0.878\n",
      "AUC-PR: 0.700\n",
      "Accuracy: 0.859\n",
      "Precision: 0.850\n",
      "Recall: 0.859\n",
      "F1-Score: 0.850\n",
      "#==============================#\n",
      "Support Vector Machine\n",
      "ROC-AUC: 0.812\n",
      "AUC-PR: 0.589\n",
      "Accuracy: 0.833\n",
      "Precision: 0.820\n",
      "Recall: 0.833\n",
      "F1-Score: 0.808\n",
      "#==============================#\n",
      "Naive Bayes\n",
      "ROC-AUC: 0.641\n",
      "AUC-PR: 0.322\n",
      "Accuracy: 0.805\n",
      "Precision: 0.780\n",
      "Recall: 0.805\n",
      "F1-Score: 0.759\n",
      "#==============================#\n"
     ]
    }
   ],
   "source": [
    "# Analyzing models performance\n",
    "print(\"#==============================#\")\n",
    "print(\"Logistic Regression\")\n",
    "evaluate_model(lr_model, test_data)\n",
    "print(\"#==============================#\")\n",
    "\n",
    "print(\"Random Forest\")\n",
    "evaluate_model(rfc_model, test_data)\n",
    "print(\"#==============================#\")\n",
    "    \n",
    "print(\"Gradient Boost Tree\")\n",
    "evaluate_model(gbt_model, test_data)\n",
    "print(\"#==============================#\")\n",
    "\n",
    "print(\"Multilayer Perceptron\")\n",
    "evaluate_model(mlp_model, test_data)\n",
    "print(\"#==============================#\")\n",
    "\n",
    "print(\"Support Vector Machine\")\n",
    "evaluate_model(svc_model, test_data)\n",
    "print(\"#==============================#\")\n",
    "\n",
    "print(\"Naive Bayes\")\n",
    "evaluate_model(nb_model, test_data)\n",
    "print(\"#==============================#\")"
   ]
  },
  {
   "cell_type": "raw",
   "id": "9a05ea32-91c9-427d-a152-518cf701a110",
   "metadata": {},
   "source": [
    "Gradient Boost Tree model showed better performance to be a base model, then we are proceed with them. Following, we need to find best hyperparameter to optimization our model.\n",
    "\n",
    "GBT result (without tuning):\n",
    "Gradient Boost Tree\n",
    "ROC-AUC: 0.885\n",
    "AUC-PR: 0.724\n",
    "Accuracy: 0.862\n",
    "Precision: 0.853\n",
    "Recall: 0.862\n",
    "F1-Score: 0.8520.852"
   ]
  },
  {
   "cell_type": "markdown",
   "id": "d36cd682-774e-4abe-8d98-30b247c343df",
   "metadata": {},
   "source": [
    "# Model Optimization"
   ]
  },
  {
   "cell_type": "code",
   "execution_count": 35,
   "id": "6c0cb37d-c8d8-457d-b62c-b7c1a14c7f17",
   "metadata": {},
   "outputs": [],
   "source": [
    "from pyspark.ml.tuning import ParamGridBuilder, CrossValidator\n",
    "\n",
    "# Setting GridSearch\n",
    "param_grid = ParamGridBuilder().addGrid(gbt.maxIter, [10, 50, 100]) \\\n",
    "                                .addGrid(gbt.maxDepth, [1, 10, 20]) \\\n",
    "                                .addGrid(gbt.stepSize, [0.2, 0.1, 0.01]) \\\n",
    "                                .build()"
   ]
  },
  {
   "cell_type": "code",
   "execution_count": null,
   "id": "ecee90d4-d363-4d36-adb0-ac600605fc7a",
   "metadata": {},
   "outputs": [],
   "source": [
    "# Setting CrossValidator\n",
    "evaluator = BinaryClassificationEvaluator(labelCol=\"exited\", rawPredictionCol=\"rawPrediction\", metricName=\"areaUnderPR\")\n",
    "crossval = CrossValidator(estimator=gbt, estimatorParamMaps=param_grid, evaluator=evaluator, numFolds=5)\n",
    "cv_model = crossval.fit(train_data)"
   ]
  },
  {
   "cell_type": "code",
   "execution_count": null,
   "id": "645df863-9ecb-4505-b897-536611d8ac9f",
   "metadata": {},
   "outputs": [],
   "source": [
    "# select best model in perfomance (AUCPR as metric)\n",
    "gbt_best_model = cv_model.bestModel"
   ]
  },
  {
   "cell_type": "code",
   "execution_count": null,
   "id": "2a8c3463-bc5d-4f3a-a583-478cd7118654",
   "metadata": {},
   "outputs": [],
   "source": [
    "# Analyzing best model selected\n",
    "print(\"Metrics to best model: \")\n",
    "evaluate_model(gbt_model, test_data)"
   ]
  },
  {
   "cell_type": "code",
   "execution_count": null,
   "id": "6e5e061a-a657-4f91-ab2c-9924a0006f6e",
   "metadata": {},
   "outputs": [],
   "source": [
    "# Saving model\n",
    "gbt_best_model.write().overwrite().save(\"gbt_model_churn\")"
   ]
  },
  {
   "cell_type": "markdown",
   "id": "b9753467-99af-46cf-b539-18c4c0ad9ce7",
   "metadata": {},
   "source": [
    "# Results"
   ]
  },
  {
   "cell_type": "code",
   "execution_count": null,
   "id": "a9b939af-3e2a-4830-b13e-a27a719af66f",
   "metadata": {},
   "outputs": [],
   "source": []
  },
  {
   "cell_type": "markdown",
   "id": "7afce9cf-ef3b-4e1d-ab87-388a37644e58",
   "metadata": {},
   "source": [
    "# Conclusion"
   ]
  },
  {
   "cell_type": "code",
   "execution_count": null,
   "id": "f0c646c7-ccc0-46a9-aa30-e51a002ea8f6",
   "metadata": {},
   "outputs": [],
   "source": []
  }
 ],
 "metadata": {
  "kernelspec": {
   "display_name": "Python 3 (ipykernel)",
   "language": "python",
   "name": "python3"
  },
  "language_info": {
   "codemirror_mode": {
    "name": "ipython",
    "version": 3
   },
   "file_extension": ".py",
   "mimetype": "text/x-python",
   "name": "python",
   "nbconvert_exporter": "python",
   "pygments_lexer": "ipython3",
   "version": "3.11.6"
  }
 },
 "nbformat": 4,
 "nbformat_minor": 5
}
