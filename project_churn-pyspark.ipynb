{
 "cells": [
  {
   "cell_type": "markdown",
   "id": "b23ad69e-db7b-467c-b2fa-d2a84d01c516",
   "metadata": {
    "tags": []
   },
   "source": [
    "# Open session and import packages"
   ]
  },
  {
   "cell_type": "code",
   "execution_count": 1,
   "id": "eb1880ad-2d9c-4cfc-b0c5-b48a5a8977ce",
   "metadata": {},
   "outputs": [],
   "source": [
    "from pyspark.sql import SparkSession\n",
    "\n",
    "spark = SparkSession.builder.appName('project_churn').getOrCreate()"
   ]
  },
  {
   "cell_type": "code",
   "execution_count": 2,
   "id": "2aec0b94-a375-4625-ad74-ed265686b823",
   "metadata": {},
   "outputs": [],
   "source": [
    "from pyspark.sql.types import *\n",
    "import pyspark.sql.functions as F\n",
    "\n",
    "import matplotlib.pyplot as plt\n",
    "import seaborn as sns\n",
    "import numpy as np\n",
    "import warnings\n",
    "\n",
    "import os\n",
    "import sys\n",
    "\n",
    "os.environ['PYSPARK_PYTHON'] = sys.executable\n",
    "os.environ['PYSPARK_DRIVER_PYTHON'] = sys.executable\n",
    "\n",
    "# Suppress all warnings\n",
    "warnings.filterwarnings(\"ignore\")"
   ]
  },
  {
   "cell_type": "markdown",
   "id": "23855595-7cd1-43c1-b3b5-e9a309f12acd",
   "metadata": {},
   "source": [
    "# Import data"
   ]
  },
  {
   "cell_type": "code",
   "execution_count": 3,
   "id": "14604171-bd5a-4204-b2bf-8e66f4a80e64",
   "metadata": {
    "tags": []
   },
   "outputs": [],
   "source": [
    "# import train set\n",
    "train = spark.read.csv('train.csv', header = True)\n",
    "# import test set\n",
    "test = spark.read.csv('test.csv', header = True)"
   ]
  },
  {
   "cell_type": "markdown",
   "id": "16e96c71-cce6-418b-bb9e-c90c3cea019c",
   "metadata": {},
   "source": [
    "# Data Format"
   ]
  },
  {
   "cell_type": "code",
   "execution_count": 4,
   "id": "01acdd83-742b-45df-a4cb-317f979d4551",
   "metadata": {
    "tags": []
   },
   "outputs": [
    {
     "name": "stdout",
     "output_type": "stream",
     "text": [
      "+---+----------+--------------+-----------+---------+------+----+------+---------+-------------+---------+--------------+---------------+------+\n",
      "|id |CustomerId|Surname       |CreditScore|Geography|Gender|Age |Tenure|Balance  |NumOfProducts|HasCrCard|IsActiveMember|EstimatedSalary|Exited|\n",
      "+---+----------+--------------+-----------+---------+------+----+------+---------+-------------+---------+--------------+---------------+------+\n",
      "|0  |15674932  |Okwudilichukwu|668        |France   |Male  |33.0|3     |0.0      |2            |1.0      |0.0           |181449.97      |0     |\n",
      "|1  |15749177  |Okwudiliolisa |627        |France   |Male  |33.0|1     |0.0      |2            |1.0      |1.0           |49503.5        |0     |\n",
      "|2  |15694510  |Hsueh         |678        |France   |Male  |40.0|10    |0.0      |2            |1.0      |0.0           |184866.69      |0     |\n",
      "|3  |15741417  |Kao           |581        |France   |Male  |34.0|2     |148882.54|1            |1.0      |1.0           |84560.88       |0     |\n",
      "|4  |15766172  |Chiemenam     |716        |Spain    |Male  |33.0|5     |0.0      |2            |1.0      |1.0           |15068.83       |0     |\n",
      "|5  |15771669  |Genovese      |588        |Germany  |Male  |36.0|4     |131778.58|1            |1.0      |0.0           |136024.31      |1     |\n",
      "|6  |15692819  |Ch'ang        |593        |France   |Female|30.0|8     |144772.69|1            |1.0      |0.0           |29792.11       |0     |\n",
      "|7  |15669611  |Chukwuebuka   |678        |Spain    |Male  |37.0|1     |138476.41|1            |1.0      |0.0           |106851.6       |0     |\n",
      "|8  |15691707  |Manna         |676        |France   |Male  |43.0|4     |0.0      |2            |1.0      |0.0           |142917.13      |0     |\n",
      "|9  |15591721  |Cattaneo      |583        |Germany  |Male  |40.0|4     |81274.33 |1            |1.0      |1.0           |170843.07      |0     |\n",
      "|10 |15635097  |Fokine        |599        |Germany  |Female|27.0|6     |161801.47|2            |1.0      |0.0           |109184.24      |0     |\n",
      "|11 |15674671  |Chiu          |687        |Germany  |Male  |40.0|3     |90432.92 |1            |1.0      |0.0           |1676.92        |0     |\n",
      "|12 |15717962  |Rossi         |759        |Spain    |Male  |71.0|9     |0.0      |1            |1.0      |1.0           |93081.87       |0     |\n",
      "|13 |15793029  |Ts'ai         |681        |France   |Male  |47.0|5     |0.0      |1            |1.0      |1.0           |72945.68       |0     |\n",
      "|14 |15643294  |Chukwuemeka   |703        |France   |Female|33.0|7     |190566.65|1            |1.0      |1.0           |79997.14       |0     |\n",
      "|15 |15690958  |Tung          |549        |France   |Female|25.0|5     |0.0      |2            |1.0      |0.0           |162260.93      |0     |\n",
      "|16 |15566543  |Macdonald     |602        |France   |Male  |36.0|7     |0.0      |2            |0.0      |1.0           |135082.47      |0     |\n",
      "|17 |15679804  |Esquivel      |636        |France   |Male  |36.0|4     |117559.05|2            |1.0      |0.0           |111573.3       |0     |\n",
      "|18 |15671358  |Hargreaves    |645        |Germany  |Female|55.0|8     |120105.43|1            |1.0      |0.0           |125083.29      |1     |\n",
      "|19 |15650670  |Ts'ui         |559        |France   |Male  |61.0|1     |153711.26|1            |0.0      |1.0           |180890.4       |1     |\n",
      "+---+----------+--------------+-----------+---------+------+----+------+---------+-------------+---------+--------------+---------------+------+\n",
      "only showing top 20 rows\n",
      "\n"
     ]
    }
   ],
   "source": [
    "train.show(truncate = False)"
   ]
  },
  {
   "cell_type": "code",
   "execution_count": 5,
   "id": "4e3b2152-0ccf-4be2-8508-ebf5df591af1",
   "metadata": {},
   "outputs": [
    {
     "name": "stdout",
     "output_type": "stream",
     "text": [
      "root\n",
      " |-- id: string (nullable = true)\n",
      " |-- CustomerId: string (nullable = true)\n",
      " |-- Surname: string (nullable = true)\n",
      " |-- CreditScore: string (nullable = true)\n",
      " |-- Geography: string (nullable = true)\n",
      " |-- Gender: string (nullable = true)\n",
      " |-- Age: string (nullable = true)\n",
      " |-- Tenure: string (nullable = true)\n",
      " |-- Balance: string (nullable = true)\n",
      " |-- NumOfProducts: string (nullable = true)\n",
      " |-- HasCrCard: string (nullable = true)\n",
      " |-- IsActiveMember: string (nullable = true)\n",
      " |-- EstimatedSalary: string (nullable = true)\n",
      " |-- Exited: string (nullable = true)\n",
      "\n"
     ]
    }
   ],
   "source": [
    "# visualize all features type\n",
    "train.printSchema()"
   ]
  },
  {
   "cell_type": "code",
   "execution_count": 6,
   "id": "d337720a-6d01-4cb0-a167-adc7c19fddd3",
   "metadata": {
    "tags": []
   },
   "outputs": [],
   "source": [
    "# removing features that don't serve any purpose\n",
    "train = train.drop('id','surname')"
   ]
  },
  {
   "cell_type": "code",
   "execution_count": 7,
   "id": "2f546b9d-8712-4123-b729-6f1131fbdd32",
   "metadata": {
    "tags": []
   },
   "outputs": [],
   "source": [
    "# rename all to lower case letters, feature and data, and removing all blank spaces\n",
    "for col in train.columns:\n",
    "    train = train.withColumnRenamed(col, col.lower())\n",
    "    train = train.withColumn(col, F.lower(col))\n",
    "    train = train.withColumn(col, F.trim(col))"
   ]
  },
  {
   "cell_type": "code",
   "execution_count": 8,
   "id": "a328ee51-3899-48ea-9d2b-6a10fea13019",
   "metadata": {},
   "outputs": [
    {
     "name": "stdout",
     "output_type": "stream",
     "text": [
      "+----------+-----------+---------+------+----+------+---------+-------------+---------+--------------+---------------+------+\n",
      "|CustomerId|CreditScore|Geography|Gender|Age |Tenure|Balance  |NumOfProducts|HasCrCard|IsActiveMember|EstimatedSalary|Exited|\n",
      "+----------+-----------+---------+------+----+------+---------+-------------+---------+--------------+---------------+------+\n",
      "|15674932  |668        |france   |male  |33.0|3     |0.0      |2            |1.0      |0.0           |181449.97      |0     |\n",
      "|15749177  |627        |france   |male  |33.0|1     |0.0      |2            |1.0      |1.0           |49503.5        |0     |\n",
      "|15694510  |678        |france   |male  |40.0|10    |0.0      |2            |1.0      |0.0           |184866.69      |0     |\n",
      "|15741417  |581        |france   |male  |34.0|2     |148882.54|1            |1.0      |1.0           |84560.88       |0     |\n",
      "|15766172  |716        |spain    |male  |33.0|5     |0.0      |2            |1.0      |1.0           |15068.83       |0     |\n",
      "+----------+-----------+---------+------+----+------+---------+-------------+---------+--------------+---------------+------+\n",
      "only showing top 5 rows\n",
      "\n"
     ]
    }
   ],
   "source": [
    "# visualize how the feature data are arranged\n",
    "train.show(5, truncate = False)"
   ]
  },
  {
   "cell_type": "code",
   "execution_count": 9,
   "id": "43ba6890-3354-478d-8e9a-afecd219b25b",
   "metadata": {
    "tags": []
   },
   "outputs": [],
   "source": [
    "# changing data types to numeric type\n",
    "int_columns = ['tenure', 'balance', 'estimatedsalary']\n",
    "\n",
    "for col in int_columns:\n",
    "    train = train.withColumn(col, F.col(col).cast(FloatType()))\n",
    "\n",
    "int_columns = ['creditscore', 'Age', 'numofproducts', 'hascrcard', 'isactivemember', 'exited']\n",
    "for col in int_columns:\n",
    "    train = train.withColumn(col, F.col(col).cast(IntegerType()))\n",
    "    "
   ]
  },
  {
   "cell_type": "code",
   "execution_count": 10,
   "id": "359d49a7-0f22-4258-894b-4d24e0f786f8",
   "metadata": {
    "tags": []
   },
   "outputs": [
    {
     "name": "stdout",
     "output_type": "stream",
     "text": [
      "root\n",
      " |-- CustomerId: string (nullable = true)\n",
      " |-- creditscore: integer (nullable = true)\n",
      " |-- Geography: string (nullable = true)\n",
      " |-- Gender: string (nullable = true)\n",
      " |-- Age: integer (nullable = true)\n",
      " |-- tenure: float (nullable = true)\n",
      " |-- balance: float (nullable = true)\n",
      " |-- numofproducts: integer (nullable = true)\n",
      " |-- hascrcard: integer (nullable = true)\n",
      " |-- isactivemember: integer (nullable = true)\n",
      " |-- estimatedsalary: float (nullable = true)\n",
      " |-- exited: integer (nullable = true)\n",
      "\n"
     ]
    }
   ],
   "source": [
    "train.printSchema()"
   ]
  },
  {
   "cell_type": "markdown",
   "id": "912f5803-851e-40dc-a12e-e1f8d5910916",
   "metadata": {},
   "source": [
    "# Exploratory Data Analysis"
   ]
  },
  {
   "cell_type": "code",
   "execution_count": 11,
   "id": "709ff28d-6811-4e9f-aa92-4327e08a5e16",
   "metadata": {
    "collapsed": true,
    "jupyter": {
     "outputs_hidden": true
    }
   },
   "outputs": [
    {
     "name": "stdout",
     "output_type": "stream",
     "text": [
      "+-------+--------------------+----------------+---------+------+-----------------+------------------+------------------+------------------+------------------+-------------------+------------------+-------------------+\n",
      "|summary|          CustomerId|     creditscore|Geography|Gender|              Age|            tenure|           balance|     numofproducts|         hascrcard|     isactivemember|   estimatedsalary|             exited|\n",
      "+-------+--------------------+----------------+---------+------+-----------------+------------------+------------------+------------------+------------------+-------------------+------------------+-------------------+\n",
      "|  count|              165034|          165034|   165034|165034|           165034|            165034|            165034|            165034|            165034|             165034|            165034|             165034|\n",
      "|   mean|1.5692005019026382E7|656.454373038283|     NULL|  NULL|38.12588787764945| 5.020353381727402| 55478.08669040132|1.5544554455445545|0.7539537307463916|0.49777015645260975|112574.82270602613|0.21159882206090866|\n",
      "| stddev|   71397.81679067112|80.1033404871783|     NULL|  NULL|8.867204591410792|2.8061585665860913|62817.663267958495|0.5471536788441764|0.4307071240449495|0.49999654260421705| 50292.86554962783| 0.4084431067117287|\n",
      "|    min|            15565701|           350.0|   france|female|             18.0|               0.0|               0.0|               1.0|               0.0|                0.0|             11.58|                0.0|\n",
      "|    25%|         1.5633112E7|           597.0|     NULL|  NULL|             32.0|               3.0|               0.0|               1.0|               1.0|                0.0|          74637.57|                0.0|\n",
      "|    50%|         1.5690164E7|           659.0|     NULL|  NULL|             37.0|               5.0|               0.0|               2.0|               1.0|                0.0|          117946.3|                0.0|\n",
      "|    75%|         1.5756821E7|           710.0|     NULL|  NULL|             42.0|               7.0|         119919.12|               2.0|               1.0|                1.0|         155061.97|                0.0|\n",
      "|    max|            15815690|           850.0|    spain|  male|             92.0|              10.0|          250898.1|               4.0|               1.0|                1.0|         199992.48|                1.0|\n",
      "+-------+--------------------+----------------+---------+------+-----------------+------------------+------------------+------------------+------------------+-------------------+------------------+-------------------+\n",
      "\n"
     ]
    }
   ],
   "source": [
    "train.summary().show()"
   ]
  },
  {
   "cell_type": "code",
   "execution_count": null,
   "id": "448fb06e-307d-44b1-b444-8828fa722fa7",
   "metadata": {},
   "outputs": [],
   "source": [
    "+-------+--------------------+----------------+---------+------+-----------------+------------------+------------------+------------------+------------------+-------------------+------------------+-------------------+\n",
    "|summary|          CustomerId|     creditscore|Geography|Gender|              Age|            tenure|           balance|     numofproducts|         hascrcard|     isactivemember|   estimatedsalary|             exited|\n",
    "+-------+--------------------+----------------+---------+------+-----------------+------------------+------------------+------------------+------------------+-------------------+------------------+-------------------+\n",
    "|  count|              165034|          165034|   165034|165034|           165034|            165034|            165034|            165034|            165034|             165034|            165034|             165034|\n",
    "|   mean|1.5692005019026382E7|656.454373038283|     NULL|  NULL|38.12588787764945| 5.020353381727402| 55478.08669040132|1.5544554455445545|0.7539537307463916|0.49777015645260975|112574.82270602613|0.21159882206090866|\n",
    "| stddev|   71397.81679067112|80.1033404871783|     NULL|  NULL|8.867204591410792|2.8061585665860913|62817.663267958495|0.5471536788441764|0.4307071240449495|0.49999654260421705| 50292.86554962783| 0.4084431067117287|\n",
    "|    min|            15565701|           350.0|   france|female|             18.0|               0.0|               0.0|               1.0|               0.0|                0.0|             11.58|                0.0|\n",
    "|    25%|         1.5633112E7|           597.0|     NULL|  NULL|             32.0|               3.0|               0.0|               1.0|               1.0|                0.0|          74637.57|                0.0|\n",
    "|    50%|         1.5690164E7|           659.0|     NULL|  NULL|             37.0|               5.0|               0.0|               2.0|               1.0|                0.0|          117946.3|                0.0|\n",
    "|    75%|         1.5756821E7|           710.0|     NULL|  NULL|             42.0|               7.0|         119919.12|               2.0|               1.0|                1.0|         155061.97|                0.0|\n",
    "|    max|            15815690|           850.0|    spain|  male|             92.0|              10.0|          250898.1|               4.0|               1.0|                1.0|         199992.48|                1.0|\n",
    "+-------+--------------------+----------------+---------+------+-----------------+------------------+------------------+------------------+------------------+-------------------+------------------+-------------------+"
   ]
  },
  {
   "cell_type": "code",
   "execution_count": 11,
   "id": "61ef36c2-2902-4a9b-ad0d-bd0f4ac53758",
   "metadata": {},
   "outputs": [],
   "source": [
    "def eda_basic(df, cols:list):\n",
    "    # lista auxiliar para adicionar os registros\n",
    "    summary_data = []\n",
    "    \n",
    "    for feature in cols:\n",
    "        # retirada de espaços vazios nos valores das colunas\n",
    "        trimmed_col = df.withColumn(feature, F.trim(F.col(feature)))\n",
    "        # cálculo de registros únicos\n",
    "        unique_values = df.select(feature).distinct().count()\n",
    "        # cálculo do total de registros\n",
    "        total_values = df.count()\n",
    "        # cálculo da porcentagem de missings nas features\n",
    "        percent_missings = (df.select(feature).where(f'{feature} == \"None\" or {feature} == \"\" ').count()/total_values)*100\n",
    "        # adiciona os valores calculados a um registro referente à respectiva feature\n",
    "        summary_data.append((feature, unique_values, total_values, percent_missings))\n",
    "        \n",
    "    # criação do Dataframe de saída\n",
    "    df = spark.createDataFrame(summary_data, [\"feature\", \"unique_value\", \"total_values\", \"percent_missing\"])\n",
    "    \n",
    "    return df"
   ]
  },
  {
   "cell_type": "code",
   "execution_count": 12,
   "id": "1b649d19-4396-4080-92b1-5fc516d79e34",
   "metadata": {
    "tags": []
   },
   "outputs": [],
   "source": [
    "eda = eda_basic(train, train.columns[1:])"
   ]
  },
  {
   "cell_type": "code",
   "execution_count": 13,
   "id": "bbbe57b8-6653-4708-9e3c-f154bdee6077",
   "metadata": {
    "tags": []
   },
   "outputs": [
    {
     "name": "stdout",
     "output_type": "stream",
     "text": [
      "+---------------+------------+------------+---------------+\n",
      "|        feature|unique_value|total_values|percent_missing|\n",
      "+---------------+------------+------------+---------------+\n",
      "|    creditscore|         457|      165034|            0.0|\n",
      "|      Geography|           3|      165034|            0.0|\n",
      "|         Gender|           2|      165034|            0.0|\n",
      "|            Age|          69|      165034|            0.0|\n",
      "|         tenure|          11|      165034|            0.0|\n",
      "|        balance|       29807|      165034|            0.0|\n",
      "|  numofproducts|           4|      165034|            0.0|\n",
      "|      hascrcard|           2|      165034|            0.0|\n",
      "| isactivemember|           2|      165034|            0.0|\n",
      "|estimatedsalary|       54502|      165034|            0.0|\n",
      "|         exited|           2|      165034|            0.0|\n",
      "+---------------+------------+------------+---------------+\n",
      "\n"
     ]
    }
   ],
   "source": [
    "eda.show()"
   ]
  },
  {
   "cell_type": "markdown",
   "id": "6c4e349a-3e38-4eab-b3fd-a3243df79245",
   "metadata": {},
   "source": [
    "Train set dont have any missing data in features, so we need to looking for outliers and know if they are possible or not to consider and how we can work with him."
   ]
  },
  {
   "cell_type": "code",
   "execution_count": 14,
   "id": "eead300b-8ba3-47ed-85e0-64263c1cf405",
   "metadata": {},
   "outputs": [
    {
     "name": "stdout",
     "output_type": "stream",
     "text": [
      "+---------------+---------+---------+---------+---------+---------+---------+\n",
      "|        summary|      95%|      96%|      97%|      98%|      99%|      max|\n",
      "+---------------+---------+---------+---------+---------+---------+---------+\n",
      "|            age|       56|       57|       59|       62|       66|       92|\n",
      "|         tenure|      9.0|      9.0|     10.0|     10.0|     10.0|     10.0|\n",
      "|        balance|151657.81|153949.69|158623.03|164880.31|172274.02| 250898.1|\n",
      "|  numofproducts|        2|        2|        2|        3|        3|        4|\n",
      "|estimatedsalary|183487.98|184872.66|187756.23|190347.72|196111.34|199992.48|\n",
      "+---------------+---------+---------+---------+---------+---------+---------+\n",
      "\n"
     ]
    }
   ],
   "source": [
    "# visualizing percentile in each feature to know about outliers in data\n",
    "percentile_data_pandas = train.select(\"age\", \"tenure\", \"balance\", \"numofproducts\", \"estimatedsalary\").summary('95%', '96%', '97%', '98%', '99%', 'max').toPandas().T.reset_index()\n",
    "percentile_data_pandas.columns = percentile_data_pandas.iloc[0]\n",
    "percentile_data_pandas = percentile_data_pandas[1:]\n",
    "percentile_data_pandas = percentile_data_pandas.reset_index(drop=True)\n",
    "\n",
    "df_percentile = spark.createDataFrame(percentile_data_pandas)\n",
    "df_percentile.show()"
   ]
  },
  {
   "cell_type": "raw",
   "id": "93543b80-f0af-4786-99dd-8aeb4bc8de9b",
   "metadata": {},
   "source": [
    "Only feature with discrepant value is Age, but even that value is a normal value."
   ]
  },
  {
   "cell_type": "markdown",
   "id": "9592d69c-e4be-4201-90cb-2721e55586ae",
   "metadata": {},
   "source": [
    "# construct graphics about information to visualize how the data are distributed\n",
    "distribution_feature = train.select(\"Age\").groupBy(\"Age\").count()\n",
    "\n",
    "pd_distribution_feature = distribution_feature.toPandas()\n",
    "\n",
    "plt.figure(figsize=(7, 3))\n",
    "sns.barplot(data=pd_distribution_feature, x=\"Age\", y=\"count\", palette=\"viridis\")\n",
    "plt.xticks(np.arange(0, pd_distribution_feature[\"Age\"].max()+5, 5))\n",
    "plt.title(\"Age Distribution\")\n",
    "plt.xlabel(\"Value\")\n",
    "plt.ylabel(\"Frequency\")\n",
    "plt.show()"
   ]
  },
  {
   "cell_type": "raw",
   "id": "76f5a171-273c-468b-b923-3fe017e014b0",
   "metadata": {},
   "source": [
    "In this case, all features are completly different among they distribution. Then work in each plot make better visualization than create a function."
   ]
  },
  {
   "cell_type": "markdown",
   "id": "b34da77b-3451-4c65-939f-2f3709fff228",
   "metadata": {
    "jp-MarkdownHeadingCollapsed": true
   },
   "source": [
    "# Data Wrangling"
   ]
  },
  {
   "cell_type": "code",
   "execution_count": null,
   "id": "b597ee57-1f38-4748-b67f-54be06ee4380",
   "metadata": {},
   "outputs": [],
   "source": []
  },
  {
   "cell_type": "markdown",
   "id": "911fbbba-9f3f-4664-9466-91a7a79cc0f3",
   "metadata": {
    "jp-MarkdownHeadingCollapsed": true
   },
   "source": [
    "# Models"
   ]
  },
  {
   "cell_type": "code",
   "execution_count": null,
   "id": "029fb715-e723-4175-bc3a-312332fb8958",
   "metadata": {},
   "outputs": [],
   "source": []
  },
  {
   "cell_type": "markdown",
   "id": "b9753467-99af-46cf-b539-18c4c0ad9ce7",
   "metadata": {
    "jp-MarkdownHeadingCollapsed": true
   },
   "source": [
    "# Results"
   ]
  },
  {
   "cell_type": "code",
   "execution_count": null,
   "id": "a9b939af-3e2a-4830-b13e-a27a719af66f",
   "metadata": {},
   "outputs": [],
   "source": []
  },
  {
   "cell_type": "markdown",
   "id": "7afce9cf-ef3b-4e1d-ab87-388a37644e58",
   "metadata": {
    "jp-MarkdownHeadingCollapsed": true
   },
   "source": [
    "# Conclusion"
   ]
  },
  {
   "cell_type": "code",
   "execution_count": null,
   "id": "f0c646c7-ccc0-46a9-aa30-e51a002ea8f6",
   "metadata": {},
   "outputs": [],
   "source": []
  }
 ],
 "metadata": {
  "kernelspec": {
   "display_name": "Python 3 (ipykernel)",
   "language": "python",
   "name": "python3"
  },
  "language_info": {
   "codemirror_mode": {
    "name": "ipython",
    "version": 3
   },
   "file_extension": ".py",
   "mimetype": "text/x-python",
   "name": "python",
   "nbconvert_exporter": "python",
   "pygments_lexer": "ipython3",
   "version": "3.11.6"
  }
 },
 "nbformat": 4,
 "nbformat_minor": 5
}
